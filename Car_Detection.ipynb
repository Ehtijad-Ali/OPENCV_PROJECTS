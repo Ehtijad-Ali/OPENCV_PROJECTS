{
 "cells": [
  {
   "cell_type": "code",
   "execution_count": 2,
   "id": "be285947",
   "metadata": {},
   "outputs": [],
   "source": [
    "import cv2"
   ]
  },
  {
   "cell_type": "code",
   "execution_count": 3,
   "id": "b5a9ccb1",
   "metadata": {},
   "outputs": [
    {
     "name": "stdout",
     "output_type": "stream",
     "text": [
      "XML file loaded successfully.\n"
     ]
    }
   ],
   "source": [
    "# know we will load our classifier of car-- haarcascade which we have downloaded in the form of zip\n",
    "# Load the car classifier (Haar cascade)\n",
    "\n",
    "car_classifier = cv2.CascadeClassifier('D:/ML projects/opencv/resources/cars.xml')\n",
    "\n",
    "# Verify if the classifier loaded correctly\n",
    "if car_classifier.empty():\n",
    "    print(\"Error loading XML file.\")\n",
    "else:\n",
    "    print(\"XML file loaded successfully.\")\n"
   ]
  },
  {
   "cell_type": "code",
   "execution_count": 13,
   "id": "e207f471",
   "metadata": {},
   "outputs": [
    {
     "name": "stdout",
     "output_type": "stream",
     "text": [
      "Video loaded successfully.\n"
     ]
    }
   ],
   "source": [
    "import cv2\n",
    "\n",
    "# Corrected file path and loading the video\n",
    "vid = cv2.VideoCapture('D:/ML projects/opencv/resources/traffic_1.mp4')\n",
    "\n",
    "# Check if the video loaded successfully\n",
    "if not vid.isOpened():\n",
    "    print(\"Error loading video.\")\n",
    "else:\n",
    "    print(\"Video loaded successfully.\")\n",
    "\n"
   ]
  },
  {
   "cell_type": "code",
   "execution_count": 10,
   "id": "7671b238",
   "metadata": {},
   "outputs": [],
   "source": [
    "# to read tthe frame automitacally we will run a while loop"
   ]
  },
  {
   "cell_type": "code",
   "execution_count": 11,
   "id": "f13f5d64",
   "metadata": {},
   "outputs": [],
   "source": [
    "while True:\n",
    "    ret, frame =vid.read()\n",
    "    # this was read the image from the video which we have given to a variable vid.\n",
    "    \n",
    "    if ret == False:\n",
    "        break\n",
    "    # when any image not found from the frame it will break the loop and come out.\n",
    "    \n",
    "    # now we canvert image to gray scale image to make the processing fast\n",
    "    \n",
    "    gray = cv2.cvtColor(frame, cv2.COLOR_BGR2GRAY)\n",
    "    \n",
    "    # know to detect the car\n",
    "    \n",
    "    car = car_classifier.detectMultiScale(gray, 1.04985, 6)\n",
    "    \n",
    "    # the gray scale variables - gray in our case\n",
    "    # scale factor = paramater to specifies how much the image size is reduce at each image scale\n",
    "    # 6 is here minNeighbors\n",
    "    \n",
    "    # display the frame\n",
    "    \n",
    "    for (x, y, w, h) in car:\n",
    "        cv2.rectangle(frame,(x, y), (x+w , y+h), (80, 80 , 255, 2))\n",
    "    # here the syntax goes like this\n",
    "#    frame thet image which it has read\n",
    "#    x, y are the coordinates\n",
    "#    x+w, y+h will make the rectangle\n",
    "#    here is the width of formal rectangle\n",
    "\n",
    "    # to display that image\n",
    "    cv2.imshow('Car Detection', frame)\n",
    "    \n",
    "    if cv2.waitKey(1) & 0xFF == ord('q'):\n",
    "        break\n",
    "    # when we press q statement will be close or wxit\n",
    "vid.release()\n",
    "cv2.destroyAllWindows()\n",
    "    \n",
    "    \n",
    "    \n",
    "    \n",
    "    "
   ]
  },
  {
   "cell_type": "code",
   "execution_count": null,
   "id": "92874df8",
   "metadata": {},
   "outputs": [],
   "source": []
  }
 ],
 "metadata": {
  "kernelspec": {
   "display_name": "Python 3 (ipykernel)",
   "language": "python",
   "name": "python3"
  },
  "language_info": {
   "codemirror_mode": {
    "name": "ipython",
    "version": 3
   },
   "file_extension": ".py",
   "mimetype": "text/x-python",
   "name": "python",
   "nbconvert_exporter": "python",
   "pygments_lexer": "ipython3",
   "version": "3.10.9"
  }
 },
 "nbformat": 4,
 "nbformat_minor": 5
}
