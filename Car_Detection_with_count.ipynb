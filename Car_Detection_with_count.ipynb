{
 "cells": [
  {
   "cell_type": "code",
   "execution_count": 1,
   "id": "c30a94c7",
   "metadata": {},
   "outputs": [
    {
     "name": "stdout",
     "output_type": "stream",
     "text": [
      "Video loaded successfully.\n"
     ]
    }
   ],
   "source": [
    "import cv2\n",
    "\n",
    "# Load the car classifier (Haar cascade)\n",
    "car_classifier = cv2.CascadeClassifier(r'D:/ML projects/opencv/resources/cars.xml')\n",
    "\n",
    "# Open the video file\n",
    "vid = cv2.VideoCapture(r'D:/ML projects/opencv/resources/cars_2.mp4')\n",
    "\n",
    "# Check if the video loaded successfully\n",
    "if not vid.isOpened():\n",
    "    print(\"Error loading video.\")\n",
    "else:\n",
    "    print(\"Video loaded successfully.\")\n",
    "\n",
    "    total_car_count = 0  # Initialize total car count\n",
    "\n",
    "    while True:\n",
    "        ret, frame = vid.read()  # Read a frame from the video\n",
    "\n",
    "        if not ret:  # If no frame is returned, break the loop\n",
    "            break\n",
    "\n",
    "        # Convert the frame to grayscale\n",
    "        gray = cv2.cvtColor(frame, cv2.COLOR_BGR2GRAY)\n",
    "\n",
    "        # Detect cars in the frame\n",
    "        cars = car_classifier.detectMultiScale(gray, scaleFactor=1.04985, minNeighbors=6)\n",
    "\n",
    "        # Draw rectangles around detected cars and count them\n",
    "        car_count = 0  # Initialize car count for the current frame\n",
    "        for (x, y, w, h) in cars:\n",
    "            cv2.rectangle(frame, (x, y), (x + w, y + h), (80, 80, 255), 2)\n",
    "            car_count += 1\n",
    "\n",
    "        total_car_count += car_count  # Update total car count\n",
    "\n",
    "        # Display the frame with detections\n",
    "        cv2.putText(frame, f'Cars in frame: {car_count}', (10, 20), cv2.FONT_HERSHEY_SIMPLEX, 0.7, (0, 255, 0), 2)\n",
    "        cv2.putText(frame, f'Total cars: {total_car_count}', (10, 50), cv2.FONT_HERSHEY_SIMPLEX, 0.7, (0, 255, 0), 2)\n",
    "        cv2.imshow('Car Detection', frame)\n",
    "\n",
    "        # Break the loop if 'q' is pressed\n",
    "        if cv2.waitKey(1) & 0xFF == ord('q'):\n",
    "            break\n",
    "\n",
    "    # Release the video capture object and close all OpenCV windows\n",
    "    vid.release()\n",
    "    cv2.destroyAllWindows()\n"
   ]
  },
  {
   "cell_type": "code",
   "execution_count": null,
   "id": "65b67b97",
   "metadata": {},
   "outputs": [],
   "source": [
    "\n"
   ]
  },
  {
   "cell_type": "code",
   "execution_count": null,
   "id": "6e3aaad1",
   "metadata": {},
   "outputs": [],
   "source": []
  }
 ],
 "metadata": {
  "kernelspec": {
   "display_name": "Python 3 (ipykernel)",
   "language": "python",
   "name": "python3"
  },
  "language_info": {
   "codemirror_mode": {
    "name": "ipython",
    "version": 3
   },
   "file_extension": ".py",
   "mimetype": "text/x-python",
   "name": "python",
   "nbconvert_exporter": "python",
   "pygments_lexer": "ipython3",
   "version": "3.10.9"
  }
 },
 "nbformat": 4,
 "nbformat_minor": 5
}
